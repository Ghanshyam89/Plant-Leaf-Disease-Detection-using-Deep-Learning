{
 "cells": [
  {
   "cell_type": "markdown",
   "id": "c0f85bcb",
   "metadata": {
    "papermill": {
     "duration": 0.024404,
     "end_time": "2022-04-26T17:02:01.934139",
     "exception": false,
     "start_time": "2022-04-26T17:02:01.909735",
     "status": "completed"
    },
    "tags": []
   },
   "source": [
    "Import neccessary packages"
   ]
  },
  {
   "cell_type": "code",
   "execution_count": 1,
   "id": "936ed75f",
   "metadata": {
    "execution": {
     "iopub.execute_input": "2022-04-26T17:02:01.983538Z",
     "iopub.status.busy": "2022-04-26T17:02:01.982846Z",
     "iopub.status.idle": "2022-04-26T17:02:09.661761Z",
     "shell.execute_reply": "2022-04-26T17:02:09.660701Z"
    },
    "papermill": {
     "duration": 7.707048,
     "end_time": "2022-04-26T17:02:09.664491",
     "exception": false,
     "start_time": "2022-04-26T17:02:01.957443",
     "status": "completed"
    },
    "tags": []
   },
   "outputs": [],
   "source": [
    "import numpy as np\n",
    "import pickle\n",
    "import cv2\n",
    "from os import listdir\n",
    "from sklearn.preprocessing import LabelBinarizer\n",
    "from tensorflow.keras.models import Sequential\n",
    "from tensorflow.keras.layers import BatchNormalization\n",
    "from keras.layers.convolutional import Conv2D\n",
    "from keras.layers.convolutional import MaxPooling2D\n",
    "from keras.layers.core import Activation, Flatten, Dropout, Dense\n",
    "from tensorflow.keras import backend as K\n",
    "from tensorflow.keras.preprocessing.image import ImageDataGenerator\n",
    "from tensorflow.keras.optimizers import Adam\n",
    "from tensorflow.keras.preprocessing import image\n",
    "from tensorflow.keras.preprocessing.image import img_to_array\n",
    "from sklearn.preprocessing import MultiLabelBinarizer\n",
    "from sklearn.model_selection import train_test_split\n",
    "import matplotlib.pyplot as plt"
   ]
  },
  {
   "cell_type": "code",
   "execution_count": 2,
   "id": "685faf1c",
   "metadata": {
    "execution": {
     "iopub.execute_input": "2022-04-26T17:02:09.713784Z",
     "iopub.status.busy": "2022-04-26T17:02:09.712778Z",
     "iopub.status.idle": "2022-04-26T17:02:09.719756Z",
     "shell.execute_reply": "2022-04-26T17:02:09.718441Z"
    },
    "papermill": {
     "duration": 0.034885,
     "end_time": "2022-04-26T17:02:09.722302",
     "exception": false,
     "start_time": "2022-04-26T17:02:09.687417",
     "status": "completed"
    },
    "tags": []
   },
   "outputs": [],
   "source": [
    "EPOCHS = 25\n",
    "INIT_LR = 1e-3\n",
    "BS = 32\n",
    "default_image_size = tuple((256, 256))\n",
    "image_size = 0\n",
    "directory_root = '../input/plantdisease'\n",
    "width=256\n",
    "height=256\n",
    "depth=3"
   ]
  },
  {
   "cell_type": "markdown",
   "id": "24dd08ef",
   "metadata": {
    "papermill": {
     "duration": 0.023078,
     "end_time": "2022-04-26T17:02:09.768929",
     "exception": false,
     "start_time": "2022-04-26T17:02:09.745851",
     "status": "completed"
    },
    "tags": []
   },
   "source": [
    "Function to convert images to array"
   ]
  },
  {
   "cell_type": "code",
   "execution_count": 3,
   "id": "38dc7e8f",
   "metadata": {
    "execution": {
     "iopub.execute_input": "2022-04-26T17:02:09.816849Z",
     "iopub.status.busy": "2022-04-26T17:02:09.816271Z",
     "iopub.status.idle": "2022-04-26T17:02:09.821272Z",
     "shell.execute_reply": "2022-04-26T17:02:09.820445Z"
    },
    "papermill": {
     "duration": 0.031274,
     "end_time": "2022-04-26T17:02:09.823340",
     "exception": false,
     "start_time": "2022-04-26T17:02:09.792066",
     "status": "completed"
    },
    "tags": []
   },
   "outputs": [],
   "source": [
    "def convert_image_to_array(image_dir):\n",
    "    try:\n",
    "        image = cv2.imread(image_dir)\n",
    "        if image is not None :\n",
    "            image = cv2.resize(image, default_image_size)   \n",
    "            return img_to_array(image)\n",
    "        else :\n",
    "            return np.array([])\n",
    "    except Exception as e:\n",
    "        print(f\"Error : {e}\")\n",
    "        return None"
   ]
  },
  {
   "cell_type": "code",
   "execution_count": 4,
   "id": "91315b2a",
   "metadata": {
    "execution": {
     "iopub.execute_input": "2022-04-26T17:02:09.872924Z",
     "iopub.status.busy": "2022-04-26T17:02:09.872201Z",
     "iopub.status.idle": "2022-04-26T17:02:09.886170Z",
     "shell.execute_reply": "2022-04-26T17:02:09.885277Z"
    },
    "papermill": {
     "duration": 0.042639,
     "end_time": "2022-04-26T17:02:09.888727",
     "exception": false,
     "start_time": "2022-04-26T17:02:09.846088",
     "status": "completed"
    },
    "tags": []
   },
   "outputs": [
    {
     "data": {
      "text/plain": [
       "['PlantVillage', 'plantvillage']"
      ]
     },
     "execution_count": 4,
     "metadata": {},
     "output_type": "execute_result"
    }
   ],
   "source": [
    "listdir(directory_root)"
   ]
  },
  {
   "cell_type": "markdown",
   "id": "7a938d0e",
   "metadata": {
    "papermill": {
     "duration": 0.023099,
     "end_time": "2022-04-26T17:02:09.937189",
     "exception": false,
     "start_time": "2022-04-26T17:02:09.914090",
     "status": "completed"
    },
    "tags": []
   },
   "source": [
    "Fetch images from directory"
   ]
  },
  {
   "cell_type": "code",
   "execution_count": 5,
   "id": "28cc6d08",
   "metadata": {
    "execution": {
     "iopub.execute_input": "2022-04-26T17:02:09.986755Z",
     "iopub.status.busy": "2022-04-26T17:02:09.985792Z",
     "iopub.status.idle": "2022-04-26T17:02:39.239134Z",
     "shell.execute_reply": "2022-04-26T17:02:39.238268Z"
    },
    "papermill": {
     "duration": 29.280433,
     "end_time": "2022-04-26T17:02:39.241244",
     "exception": false,
     "start_time": "2022-04-26T17:02:09.960811",
     "status": "completed"
    },
    "tags": []
   },
   "outputs": [
    {
     "name": "stdout",
     "output_type": "stream",
     "text": [
      "[INFO] Loading images ...\n",
      "[INFO] Processing Pepper__bell___Bacterial_spot ...\n",
      "[INFO] Processing Potato___healthy ...\n",
      "[INFO] Processing Tomato_Leaf_Mold ...\n",
      "[INFO] Processing Tomato__Tomato_YellowLeaf__Curl_Virus ...\n",
      "[INFO] Processing Tomato_Bacterial_spot ...\n",
      "[INFO] Processing Tomato_Septoria_leaf_spot ...\n",
      "[INFO] Processing Tomato_healthy ...\n",
      "[INFO] Processing Tomato_Spider_mites_Two_spotted_spider_mite ...\n",
      "[INFO] Processing Tomato_Early_blight ...\n",
      "[INFO] Processing Tomato__Target_Spot ...\n",
      "[INFO] Processing Pepper__bell___healthy ...\n",
      "[INFO] Processing Potato___Late_blight ...\n",
      "[INFO] Processing Tomato_Late_blight ...\n",
      "[INFO] Processing Potato___Early_blight ...\n",
      "[INFO] Processing Tomato__Tomato_mosaic_virus ...\n",
      "[INFO] Processing PlantVillage ...\n",
      "[INFO] Image loading completed\n"
     ]
    }
   ],
   "source": [
    "image_list, label_list = [], []\n",
    "try:\n",
    "    print(\"[INFO] Loading images ...\")\n",
    "    root_dir = listdir(directory_root)\n",
    "    for directory in root_dir :\n",
    "        # remove .DS_Store from list\n",
    "        if directory == \".DS_Store\" :\n",
    "            root_dir.remove(directory)\n",
    "\n",
    "    for plant_folder in root_dir :\n",
    "        plant_disease_folder_list = listdir(f\"{directory_root}/{plant_folder}\")\n",
    "        \n",
    "        for disease_folder in plant_disease_folder_list :\n",
    "            # remove .DS_Store from list\n",
    "            if disease_folder == \".DS_Store\" :\n",
    "                plant_disease_folder_list.remove(disease_folder)\n",
    "\n",
    "        for plant_disease_folder in plant_disease_folder_list:\n",
    "            print(f\"[INFO] Processing {plant_disease_folder} ...\")\n",
    "            plant_disease_image_list = listdir(f\"{directory_root}/{plant_folder}/{plant_disease_folder}\")\n",
    "           \n",
    "                \n",
    "            for single_plant_disease_image in plant_disease_image_list :\n",
    "                if single_plant_disease_image == \".DS_Store\" :\n",
    "                    plant_disease_image_list.remove(single_plant_disease_image)\n",
    "\n",
    "            for image in plant_disease_image_list[:200]:\n",
    "                image_directory = f\"{directory_root}/{plant_folder}/{plant_disease_folder}/{image}\"\n",
    "                if image_directory.endswith(\".jpg\") == True or image_directory.endswith(\".JPG\") == True:\n",
    "                    image_list.append(convert_image_to_array(image_directory))\n",
    "                    label_list.append(plant_disease_folder)\n",
    "    print(\"[INFO] Image loading completed\")  \n",
    "except Exception as e:\n",
    "    print(f\"Error : {e}\")"
   ]
  },
  {
   "cell_type": "code",
   "execution_count": 6,
   "id": "08f87d6a",
   "metadata": {
    "execution": {
     "iopub.execute_input": "2022-04-26T17:02:39.298666Z",
     "iopub.status.busy": "2022-04-26T17:02:39.297629Z",
     "iopub.status.idle": "2022-04-26T17:02:39.303338Z",
     "shell.execute_reply": "2022-04-26T17:02:39.302451Z"
    },
    "papermill": {
     "duration": 0.036137,
     "end_time": "2022-04-26T17:02:39.305295",
     "exception": false,
     "start_time": "2022-04-26T17:02:39.269158",
     "status": "completed"
    },
    "tags": []
   },
   "outputs": [
    {
     "name": "stdout",
     "output_type": "stream",
     "text": [
      "2952\n"
     ]
    }
   ],
   "source": [
    "image_size = len(image_list)\n",
    "print(image_size)"
   ]
  },
  {
   "cell_type": "markdown",
   "id": "e1e86bcf",
   "metadata": {
    "papermill": {
     "duration": 0.029199,
     "end_time": "2022-04-26T17:02:39.362307",
     "exception": false,
     "start_time": "2022-04-26T17:02:39.333108",
     "status": "completed"
    },
    "tags": []
   },
   "source": [
    "Transform Image Labels uisng Scikit Learn's LabelBinarizer"
   ]
  },
  {
   "cell_type": "code",
   "execution_count": 7,
   "id": "ef29676b",
   "metadata": {
    "execution": {
     "iopub.execute_input": "2022-04-26T17:02:39.419401Z",
     "iopub.status.busy": "2022-04-26T17:02:39.419094Z",
     "iopub.status.idle": "2022-04-26T17:02:39.437430Z",
     "shell.execute_reply": "2022-04-26T17:02:39.436637Z"
    },
    "papermill": {
     "duration": 0.049786,
     "end_time": "2022-04-26T17:02:39.439855",
     "exception": false,
     "start_time": "2022-04-26T17:02:39.390069",
     "status": "completed"
    },
    "tags": []
   },
   "outputs": [],
   "source": [
    "label_binarizer = LabelBinarizer()\n",
    "image_labels = label_binarizer.fit_transform(label_list)\n",
    "pickle.dump(label_binarizer,open('label_transform.pkl', 'wb'))\n",
    "n_classes = len(label_binarizer.classes_)"
   ]
  },
  {
   "cell_type": "markdown",
   "id": "ba5c9886",
   "metadata": {
    "papermill": {
     "duration": 0.027357,
     "end_time": "2022-04-26T17:02:39.495313",
     "exception": false,
     "start_time": "2022-04-26T17:02:39.467956",
     "status": "completed"
    },
    "tags": []
   },
   "source": [
    "Print the classes"
   ]
  },
  {
   "cell_type": "code",
   "execution_count": 8,
   "id": "b0488f47",
   "metadata": {
    "execution": {
     "iopub.execute_input": "2022-04-26T17:02:39.553723Z",
     "iopub.status.busy": "2022-04-26T17:02:39.553445Z",
     "iopub.status.idle": "2022-04-26T17:02:39.558818Z",
     "shell.execute_reply": "2022-04-26T17:02:39.557979Z"
    },
    "papermill": {
     "duration": 0.036837,
     "end_time": "2022-04-26T17:02:39.560815",
     "exception": false,
     "start_time": "2022-04-26T17:02:39.523978",
     "status": "completed"
    },
    "tags": []
   },
   "outputs": [
    {
     "name": "stdout",
     "output_type": "stream",
     "text": [
      "['Pepper__bell___Bacterial_spot' 'Pepper__bell___healthy'\n",
      " 'Potato___Early_blight' 'Potato___Late_blight' 'Potato___healthy'\n",
      " 'Tomato_Bacterial_spot' 'Tomato_Early_blight' 'Tomato_Late_blight'\n",
      " 'Tomato_Leaf_Mold' 'Tomato_Septoria_leaf_spot'\n",
      " 'Tomato_Spider_mites_Two_spotted_spider_mite' 'Tomato__Target_Spot'\n",
      " 'Tomato__Tomato_YellowLeaf__Curl_Virus' 'Tomato__Tomato_mosaic_virus'\n",
      " 'Tomato_healthy']\n"
     ]
    }
   ],
   "source": [
    "print(label_binarizer.classes_)"
   ]
  },
  {
   "cell_type": "code",
   "execution_count": 9,
   "id": "0cf0bb08",
   "metadata": {
    "execution": {
     "iopub.execute_input": "2022-04-26T17:02:39.620416Z",
     "iopub.status.busy": "2022-04-26T17:02:39.619828Z",
     "iopub.status.idle": "2022-04-26T17:02:51.529687Z",
     "shell.execute_reply": "2022-04-26T17:02:51.528913Z"
    },
    "papermill": {
     "duration": 11.942971,
     "end_time": "2022-04-26T17:02:51.531892",
     "exception": false,
     "start_time": "2022-04-26T17:02:39.588921",
     "status": "completed"
    },
    "tags": []
   },
   "outputs": [],
   "source": [
    "np_image_list = np.array(image_list, dtype=np.float16) / 225.0"
   ]
  },
  {
   "cell_type": "code",
   "execution_count": 10,
   "id": "a54a083c",
   "metadata": {
    "execution": {
     "iopub.execute_input": "2022-04-26T17:02:51.589359Z",
     "iopub.status.busy": "2022-04-26T17:02:51.588796Z",
     "iopub.status.idle": "2022-04-26T17:02:52.063296Z",
     "shell.execute_reply": "2022-04-26T17:02:52.062572Z"
    },
    "papermill": {
     "duration": 0.505544,
     "end_time": "2022-04-26T17:02:52.065448",
     "exception": false,
     "start_time": "2022-04-26T17:02:51.559904",
     "status": "completed"
    },
    "tags": []
   },
   "outputs": [
    {
     "name": "stdout",
     "output_type": "stream",
     "text": [
      "[INFO] Spliting data to train, test\n"
     ]
    }
   ],
   "source": [
    "print(\"[INFO] Spliting data to train, test\")\n",
    "x_train, x_test, y_train, y_test = train_test_split(np_image_list, image_labels, test_size=0.2, random_state = 42) "
   ]
  },
  {
   "cell_type": "code",
   "execution_count": 11,
   "id": "b4c03613",
   "metadata": {
    "execution": {
     "iopub.execute_input": "2022-04-26T17:02:52.124241Z",
     "iopub.status.busy": "2022-04-26T17:02:52.123573Z",
     "iopub.status.idle": "2022-04-26T17:02:52.127552Z",
     "shell.execute_reply": "2022-04-26T17:02:52.126956Z"
    },
    "papermill": {
     "duration": 0.035041,
     "end_time": "2022-04-26T17:02:52.129193",
     "exception": false,
     "start_time": "2022-04-26T17:02:52.094152",
     "status": "completed"
    },
    "tags": []
   },
   "outputs": [],
   "source": [
    "aug = ImageDataGenerator(\n",
    "    rotation_range=25, width_shift_range=0.1,\n",
    "    height_shift_range=0.1, shear_range=0.2, \n",
    "    zoom_range=0.2,horizontal_flip=True, \n",
    "    fill_mode=\"nearest\")"
   ]
  },
  {
   "cell_type": "code",
   "execution_count": 12,
   "id": "944fc8da",
   "metadata": {
    "execution": {
     "iopub.execute_input": "2022-04-26T17:02:52.187566Z",
     "iopub.status.busy": "2022-04-26T17:02:52.187154Z",
     "iopub.status.idle": "2022-04-26T17:02:52.916813Z",
     "shell.execute_reply": "2022-04-26T17:02:52.916156Z"
    },
    "papermill": {
     "duration": 0.761375,
     "end_time": "2022-04-26T17:02:52.918926",
     "exception": false,
     "start_time": "2022-04-26T17:02:52.157551",
     "status": "completed"
    },
    "tags": []
   },
   "outputs": [
    {
     "name": "stderr",
     "output_type": "stream",
     "text": [
      "2022-04-26 17:02:52.225989: I tensorflow/core/common_runtime/process_util.cc:146] Creating new thread pool with default inter op setting: 2. Tune using inter_op_parallelism_threads for best performance.\n"
     ]
    }
   ],
   "source": [
    "model = Sequential()\n",
    "inputShape = (height, width, depth)\n",
    "chanDim = -1\n",
    "if K.image_data_format() == \"channels_first\":\n",
    "    inputShape = (depth, height, width)\n",
    "    chanDim = 1\n",
    "model.add(Conv2D(32, (3, 3), padding=\"same\",input_shape=inputShape))\n",
    "model.add(Activation(\"relu\"))\n",
    "model.add(BatchNormalization(axis=chanDim))\n",
    "model.add(MaxPooling2D(pool_size=(3, 3)))\n",
    "model.add(Dropout(0.25))\n",
    "model.add(Conv2D(64, (3, 3), padding=\"same\"))\n",
    "model.add(Activation(\"relu\"))\n",
    "model.add(BatchNormalization(axis=chanDim))\n",
    "model.add(Conv2D(64, (3, 3), padding=\"same\"))\n",
    "model.add(Activation(\"relu\"))\n",
    "model.add(BatchNormalization(axis=chanDim))\n",
    "model.add(MaxPooling2D(pool_size=(2, 2)))\n",
    "model.add(Dropout(0.25))\n",
    "model.add(Conv2D(128, (3, 3), padding=\"same\"))\n",
    "model.add(Activation(\"relu\"))\n",
    "model.add(BatchNormalization(axis=chanDim))\n",
    "model.add(Conv2D(128, (3, 3), padding=\"same\"))\n",
    "model.add(Activation(\"relu\"))\n",
    "model.add(BatchNormalization(axis=chanDim))\n",
    "model.add(MaxPooling2D(pool_size=(2, 2)))\n",
    "model.add(Dropout(0.25))\n",
    "model.add(Flatten())\n",
    "model.add(Dense(1024))\n",
    "model.add(Activation(\"relu\"))\n",
    "model.add(BatchNormalization())\n",
    "model.add(Dropout(0.5))\n",
    "model.add(Dense(n_classes))\n",
    "model.add(Activation(\"softmax\"))"
   ]
  },
  {
   "cell_type": "markdown",
   "id": "f3ccbfd1",
   "metadata": {
    "papermill": {
     "duration": 0.028356,
     "end_time": "2022-04-26T17:02:52.976076",
     "exception": false,
     "start_time": "2022-04-26T17:02:52.947720",
     "status": "completed"
    },
    "tags": []
   },
   "source": [
    "Model Summary"
   ]
  },
  {
   "cell_type": "code",
   "execution_count": 13,
   "id": "5cde3f95",
   "metadata": {
    "execution": {
     "iopub.execute_input": "2022-04-26T17:02:53.034898Z",
     "iopub.status.busy": "2022-04-26T17:02:53.034028Z",
     "iopub.status.idle": "2022-04-26T17:02:53.049569Z",
     "shell.execute_reply": "2022-04-26T17:02:53.048871Z"
    },
    "papermill": {
     "duration": 0.047577,
     "end_time": "2022-04-26T17:02:53.051905",
     "exception": false,
     "start_time": "2022-04-26T17:02:53.004328",
     "status": "completed"
    },
    "tags": []
   },
   "outputs": [
    {
     "name": "stdout",
     "output_type": "stream",
     "text": [
      "Model: \"sequential\"\n",
      "_________________________________________________________________\n",
      "Layer (type)                 Output Shape              Param #   \n",
      "=================================================================\n",
      "conv2d (Conv2D)              (None, 256, 256, 32)      896       \n",
      "_________________________________________________________________\n",
      "activation (Activation)      (None, 256, 256, 32)      0         \n",
      "_________________________________________________________________\n",
      "batch_normalization (BatchNo (None, 256, 256, 32)      128       \n",
      "_________________________________________________________________\n",
      "max_pooling2d (MaxPooling2D) (None, 85, 85, 32)        0         \n",
      "_________________________________________________________________\n",
      "dropout (Dropout)            (None, 85, 85, 32)        0         \n",
      "_________________________________________________________________\n",
      "conv2d_1 (Conv2D)            (None, 85, 85, 64)        18496     \n",
      "_________________________________________________________________\n",
      "activation_1 (Activation)    (None, 85, 85, 64)        0         \n",
      "_________________________________________________________________\n",
      "batch_normalization_1 (Batch (None, 85, 85, 64)        256       \n",
      "_________________________________________________________________\n",
      "conv2d_2 (Conv2D)            (None, 85, 85, 64)        36928     \n",
      "_________________________________________________________________\n",
      "activation_2 (Activation)    (None, 85, 85, 64)        0         \n",
      "_________________________________________________________________\n",
      "batch_normalization_2 (Batch (None, 85, 85, 64)        256       \n",
      "_________________________________________________________________\n",
      "max_pooling2d_1 (MaxPooling2 (None, 42, 42, 64)        0         \n",
      "_________________________________________________________________\n",
      "dropout_1 (Dropout)          (None, 42, 42, 64)        0         \n",
      "_________________________________________________________________\n",
      "conv2d_3 (Conv2D)            (None, 42, 42, 128)       73856     \n",
      "_________________________________________________________________\n",
      "activation_3 (Activation)    (None, 42, 42, 128)       0         \n",
      "_________________________________________________________________\n",
      "batch_normalization_3 (Batch (None, 42, 42, 128)       512       \n",
      "_________________________________________________________________\n",
      "conv2d_4 (Conv2D)            (None, 42, 42, 128)       147584    \n",
      "_________________________________________________________________\n",
      "activation_4 (Activation)    (None, 42, 42, 128)       0         \n",
      "_________________________________________________________________\n",
      "batch_normalization_4 (Batch (None, 42, 42, 128)       512       \n",
      "_________________________________________________________________\n",
      "max_pooling2d_2 (MaxPooling2 (None, 21, 21, 128)       0         \n",
      "_________________________________________________________________\n",
      "dropout_2 (Dropout)          (None, 21, 21, 128)       0         \n",
      "_________________________________________________________________\n",
      "flatten (Flatten)            (None, 56448)             0         \n",
      "_________________________________________________________________\n",
      "dense (Dense)                (None, 1024)              57803776  \n",
      "_________________________________________________________________\n",
      "activation_5 (Activation)    (None, 1024)              0         \n",
      "_________________________________________________________________\n",
      "batch_normalization_5 (Batch (None, 1024)              4096      \n",
      "_________________________________________________________________\n",
      "dropout_3 (Dropout)          (None, 1024)              0         \n",
      "_________________________________________________________________\n",
      "dense_1 (Dense)              (None, 15)                15375     \n",
      "_________________________________________________________________\n",
      "activation_6 (Activation)    (None, 15)                0         \n",
      "=================================================================\n",
      "Total params: 58,102,671\n",
      "Trainable params: 58,099,791\n",
      "Non-trainable params: 2,880\n",
      "_________________________________________________________________\n"
     ]
    }
   ],
   "source": [
    "model.summary()"
   ]
  },
  {
   "cell_type": "code",
   "execution_count": 14,
   "id": "870d7da5",
   "metadata": {
    "execution": {
     "iopub.execute_input": "2022-04-26T17:02:53.111980Z",
     "iopub.status.busy": "2022-04-26T17:02:53.111410Z",
     "iopub.status.idle": "2022-04-26T17:02:53.126614Z",
     "shell.execute_reply": "2022-04-26T17:02:53.125484Z"
    },
    "papermill": {
     "duration": 0.04719,
     "end_time": "2022-04-26T17:02:53.128579",
     "exception": false,
     "start_time": "2022-04-26T17:02:53.081389",
     "status": "completed"
    },
    "tags": []
   },
   "outputs": [
    {
     "name": "stdout",
     "output_type": "stream",
     "text": [
      "[INFO] training network...\n"
     ]
    }
   ],
   "source": [
    "opt = Adam(learning_rate=INIT_LR, decay=INIT_LR / EPOCHS)\n",
    "# distribution\n",
    "model.compile(loss=\"binary_crossentropy\", optimizer=opt,metrics=[\"accuracy\"])\n",
    "# train the network\n",
    "print(\"[INFO] training network...\")"
   ]
  },
  {
   "cell_type": "code",
   "execution_count": 15,
   "id": "2410d2b1",
   "metadata": {
    "execution": {
     "iopub.execute_input": "2022-04-26T17:02:53.189047Z",
     "iopub.status.busy": "2022-04-26T17:02:53.188444Z",
     "iopub.status.idle": "2022-04-26T18:26:20.297091Z",
     "shell.execute_reply": "2022-04-26T18:26:20.296182Z"
    },
    "papermill": {
     "duration": 5007.141567,
     "end_time": "2022-04-26T18:26:20.299545",
     "exception": false,
     "start_time": "2022-04-26T17:02:53.157978",
     "status": "completed"
    },
    "tags": []
   },
   "outputs": [
    {
     "name": "stderr",
     "output_type": "stream",
     "text": [
      "2022-04-26 17:02:55.556461: I tensorflow/compiler/mlir/mlir_graph_optimization_pass.cc:185] None of the MLIR Optimization Passes are enabled (registered 2)\n"
     ]
    },
    {
     "name": "stdout",
     "output_type": "stream",
     "text": [
      "Epoch 1/25\n",
      "73/73 [==============================] - 183s 2s/step - loss: 0.6104 - accuracy: 0.2495 - val_loss: 1.2746 - val_accuracy: 0.0660\n",
      "Epoch 2/25\n",
      "73/73 [==============================] - 177s 2s/step - loss: 0.1974 - accuracy: 0.5019 - val_loss: 0.3648 - val_accuracy: 0.0694\n",
      "Epoch 3/25\n",
      "73/73 [==============================] - 179s 2s/step - loss: 0.1288 - accuracy: 0.6526 - val_loss: 0.4959 - val_accuracy: 0.0728\n",
      "Epoch 4/25\n",
      "73/73 [==============================] - 178s 2s/step - loss: 0.1105 - accuracy: 0.7097 - val_loss: 1.7670 - val_accuracy: 0.0880\n",
      "Epoch 5/25\n",
      "73/73 [==============================] - 179s 2s/step - loss: 0.1042 - accuracy: 0.7282 - val_loss: 0.6152 - val_accuracy: 0.1235\n",
      "Epoch 6/25\n",
      "73/73 [==============================] - 179s 2s/step - loss: 0.0940 - accuracy: 0.7574 - val_loss: 1.1340 - val_accuracy: 0.1083\n",
      "Epoch 7/25\n",
      "73/73 [==============================] - 178s 2s/step - loss: 0.1144 - accuracy: 0.7166 - val_loss: 0.7988 - val_accuracy: 0.0981\n",
      "Epoch 8/25\n",
      "73/73 [==============================] - 179s 2s/step - loss: 0.1029 - accuracy: 0.7471 - val_loss: 0.5058 - val_accuracy: 0.3181\n",
      "Epoch 9/25\n",
      "73/73 [==============================] - 178s 2s/step - loss: 0.1294 - accuracy: 0.7261 - val_loss: 0.9531 - val_accuracy: 0.3029\n",
      "Epoch 10/25\n",
      "73/73 [==============================] - 179s 2s/step - loss: 0.1408 - accuracy: 0.6870 - val_loss: 1.2819 - val_accuracy: 0.1794\n",
      "Epoch 11/25\n",
      "73/73 [==============================] - 180s 2s/step - loss: 0.1127 - accuracy: 0.7398 - val_loss: 0.5332 - val_accuracy: 0.3807\n",
      "Epoch 12/25\n",
      "73/73 [==============================] - 182s 2s/step - loss: 0.1145 - accuracy: 0.7338 - val_loss: 0.3852 - val_accuracy: 0.4467\n",
      "Epoch 13/25\n",
      "73/73 [==============================] - 180s 2s/step - loss: 0.1064 - accuracy: 0.7492 - val_loss: 0.5134 - val_accuracy: 0.2352\n",
      "Epoch 14/25\n",
      "73/73 [==============================] - 181s 2s/step - loss: 0.1079 - accuracy: 0.7514 - val_loss: 0.2656 - val_accuracy: 0.4873\n",
      "Epoch 15/25\n",
      "73/73 [==============================] - 180s 2s/step - loss: 0.0866 - accuracy: 0.8008 - val_loss: 0.2183 - val_accuracy: 0.5601\n",
      "Epoch 16/25\n",
      "73/73 [==============================] - 178s 2s/step - loss: 0.0729 - accuracy: 0.8377 - val_loss: 0.1016 - val_accuracy: 0.7766\n",
      "Epoch 17/25\n",
      "73/73 [==============================] - 178s 2s/step - loss: 0.0819 - accuracy: 0.8025 - val_loss: 0.1454 - val_accuracy: 0.6531\n",
      "Epoch 18/25\n",
      "73/73 [==============================] - 183s 2s/step - loss: 0.0675 - accuracy: 0.8446 - val_loss: 0.4243 - val_accuracy: 0.4653\n",
      "Epoch 19/25\n",
      "73/73 [==============================] - 182s 2s/step - loss: 0.0590 - accuracy: 0.8720 - val_loss: 0.1236 - val_accuracy: 0.7276\n",
      "Epoch 20/25\n",
      "73/73 [==============================] - 181s 2s/step - loss: 0.0566 - accuracy: 0.8729 - val_loss: 0.1182 - val_accuracy: 0.7445\n",
      "Epoch 21/25\n",
      "73/73 [==============================] - 182s 2s/step - loss: 0.0564 - accuracy: 0.8811 - val_loss: 0.2816 - val_accuracy: 0.5922\n",
      "Epoch 22/25\n",
      "73/73 [==============================] - 183s 2s/step - loss: 0.0518 - accuracy: 0.8922 - val_loss: 0.1723 - val_accuracy: 0.6836\n",
      "Epoch 23/25\n",
      "73/73 [==============================] - 181s 2s/step - loss: 0.0503 - accuracy: 0.8978 - val_loss: 0.1479 - val_accuracy: 0.6988\n",
      "Epoch 24/25\n",
      "73/73 [==============================] - 181s 2s/step - loss: 0.0486 - accuracy: 0.8974 - val_loss: 0.2670 - val_accuracy: 0.6345\n",
      "Epoch 25/25\n",
      "73/73 [==============================] - 180s 2s/step - loss: 0.0521 - accuracy: 0.8918 - val_loss: 1.3858 - val_accuracy: 0.2064\n"
     ]
    }
   ],
   "source": [
    "history = model.fit(\n",
    "    aug.flow(x_train, y_train, batch_size=BS),\n",
    "    validation_data=(x_test, y_test),\n",
    "    steps_per_epoch=len(x_train) // BS,\n",
    "    epochs=EPOCHS, \n",
    "    verbose=1\n",
    "    )"
   ]
  },
  {
   "cell_type": "markdown",
   "id": "dffd2d46",
   "metadata": {
    "papermill": {
     "duration": 0.545704,
     "end_time": "2022-04-26T18:26:21.392364",
     "exception": false,
     "start_time": "2022-04-26T18:26:20.846660",
     "status": "completed"
    },
    "tags": []
   },
   "source": [
    "Plot the train and val curve"
   ]
  },
  {
   "cell_type": "code",
   "execution_count": 16,
   "id": "69009256",
   "metadata": {
    "execution": {
     "iopub.execute_input": "2022-04-26T18:26:22.501136Z",
     "iopub.status.busy": "2022-04-26T18:26:22.499723Z",
     "iopub.status.idle": "2022-04-26T18:26:22.866431Z",
     "shell.execute_reply": "2022-04-26T18:26:22.865541Z"
    },
    "papermill": {
     "duration": 0.911972,
     "end_time": "2022-04-26T18:26:22.868469",
     "exception": false,
     "start_time": "2022-04-26T18:26:21.956497",
     "status": "completed"
    },
    "tags": []
   },
   "outputs": [
    {
     "data": {
      "image/png": "[encoded data removed]",
      "text/plain": [
       "<Figure size 432x288 with 1 Axes>"
      ]
     },
     "metadata": {
      "needs_background": "light"
     },
     "output_type": "display_data"
    },
    {
     "data": {
      "image/png": "[encoded data removed]",
      "text/plain": [
       "<Figure size 432x288 with 1 Axes>"
      ]
     },
     "metadata": {
      "needs_background": "light"
     },
     "output_type": "display_data"
    }
   ],
   "source": [
    "acc = history.history['accuracy']\n",
    "val_acc = history.history['val_accuracy']\n",
    "loss = history.history['loss']\n",
    "val_loss = history.history['val_loss']\n",
    "epochs = range(1, len(acc) + 1)\n",
    "#Train and validation accuracy\n",
    "plt.plot(epochs, acc, 'b', label='Training accurarcy')\n",
    "plt.plot(epochs, val_acc, 'r', label='Validation accurarcy')\n",
    "plt.title('Training and Validation accurarcy')\n",
    "plt.legend()\n",
    "\n",
    "plt.figure()\n",
    "#Train and validation loss\n",
    "plt.plot(epochs, loss, 'b', label='Training loss')\n",
    "plt.plot(epochs, val_loss, 'r', label='Validation loss')\n",
    "plt.title('Training and Validation loss')\n",
    "plt.legend()\n",
    "plt.show()"
   ]
  },
  {
   "cell_type": "markdown",
   "id": "58e38a97",
   "metadata": {
    "papermill": {
     "duration": 0.539499,
     "end_time": "2022-04-26T18:26:23.956706",
     "exception": false,
     "start_time": "2022-04-26T18:26:23.417207",
     "status": "completed"
    },
    "tags": []
   },
   "source": [
    "Model Accuracy"
   ]
  },
  {
   "cell_type": "code",
   "execution_count": 17,
   "id": "d0764087",
   "metadata": {
    "execution": {
     "iopub.execute_input": "2022-04-26T18:26:25.043498Z",
     "iopub.status.busy": "2022-04-26T18:26:25.042656Z",
     "iopub.status.idle": "2022-04-26T18:26:35.871982Z",
     "shell.execute_reply": "2022-04-26T18:26:35.870664Z"
    },
    "papermill": {
     "duration": 11.372328,
     "end_time": "2022-04-26T18:26:35.874614",
     "exception": false,
     "start_time": "2022-04-26T18:26:24.502286",
     "status": "completed"
    },
    "tags": []
   },
   "outputs": [
    {
     "name": "stdout",
     "output_type": "stream",
     "text": [
      "[INFO] Calculating model accuracy\n",
      "19/19 [==============================] - 10s 537ms/step - loss: 1.3858 - accuracy: 0.2064\n",
      "Test Accuracy: 20.642977952957153\n"
     ]
    }
   ],
   "source": [
    "print(\"[INFO] Calculating model accuracy\")\n",
    "scores = model.evaluate(x_test, y_test)\n",
    "print(f\"Test Accuracy: {scores[1]*100}\")"
   ]
  },
  {
   "cell_type": "markdown",
   "id": "6c76270a",
   "metadata": {
    "papermill": {
     "duration": 0.553684,
     "end_time": "2022-04-26T18:26:36.995239",
     "exception": false,
     "start_time": "2022-04-26T18:26:36.441555",
     "status": "completed"
    },
    "tags": []
   },
   "source": [
    "Save model using Pickle"
   ]
  },
  {
   "cell_type": "code",
   "execution_count": 18,
   "id": "b0ba9ed7",
   "metadata": {
    "execution": {
     "iopub.execute_input": "2022-04-26T18:26:38.107122Z",
     "iopub.status.busy": "2022-04-26T18:26:38.106775Z",
     "iopub.status.idle": "2022-04-26T18:26:40.098753Z",
     "shell.execute_reply": "2022-04-26T18:26:40.097602Z"
    },
    "papermill": {
     "duration": 2.554026,
     "end_time": "2022-04-26T18:26:40.102010",
     "exception": false,
     "start_time": "2022-04-26T18:26:37.547984",
     "status": "completed"
    },
    "tags": []
   },
   "outputs": [
    {
     "name": "stdout",
     "output_type": "stream",
     "text": [
      "[INFO] Saving model...\n",
      "[INFO] Model saved...\n"
     ]
    }
   ],
   "source": [
    "# save the model to disk\n",
    "print(\"[INFO] Saving model...\")\n",
    "# pickle.dump(model,open('./cnn_model.pkl', 'wb'))\n",
    "\n",
    "model.save('./cnn_model.h5')\n",
    "\n",
    "print(\"[INFO] Model saved...\")"
   ]
  },
  {
   "cell_type": "code",
   "execution_count": 19,
   "id": "aee84dcd",
   "metadata": {
    "execution": {
     "iopub.execute_input": "2022-04-26T18:26:41.233525Z",
     "iopub.status.busy": "2022-04-26T18:26:41.232762Z",
     "iopub.status.idle": "2022-04-26T18:26:42.673135Z",
     "shell.execute_reply": "2022-04-26T18:26:42.672495Z"
    },
    "papermill": {
     "duration": 1.997297,
     "end_time": "2022-04-26T18:26:42.675316",
     "exception": false,
     "start_time": "2022-04-26T18:26:40.678019",
     "status": "completed"
    },
    "tags": []
   },
   "outputs": [],
   "source": [
    "from keras.models import load_model\n",
    "model_disease=load_model(\"./cnn_model.h5\")\n",
    "# model_disease=load_model(\"./cnn_model\")"
   ]
  },
  {
   "cell_type": "code",
   "execution_count": 20,
   "id": "b059eed1",
   "metadata": {
    "execution": {
     "iopub.execute_input": "2022-04-26T18:26:43.820669Z",
     "iopub.status.busy": "2022-04-26T18:26:43.820127Z",
     "iopub.status.idle": "2022-04-26T18:26:43.824956Z",
     "shell.execute_reply": "2022-04-26T18:26:43.823840Z"
    },
    "papermill": {
     "duration": 0.573672,
     "end_time": "2022-04-26T18:26:43.827300",
     "exception": false,
     "start_time": "2022-04-26T18:26:43.253628",
     "status": "completed"
    },
    "tags": []
   },
   "outputs": [
    {
     "name": "stdout",
     "output_type": "stream",
     "text": [
      "['Pepper__bell___Bacterial_spot' 'Pepper__bell___healthy'\n",
      " 'Potato___Early_blight' 'Potato___Late_blight' 'Potato___healthy'\n",
      " 'Tomato_Bacterial_spot' 'Tomato_Early_blight' 'Tomato_Late_blight'\n",
      " 'Tomato_Leaf_Mold' 'Tomato_Septoria_leaf_spot'\n",
      " 'Tomato_Spider_mites_Two_spotted_spider_mite' 'Tomato__Target_Spot'\n",
      " 'Tomato__Tomato_YellowLeaf__Curl_Virus' 'Tomato__Tomato_mosaic_virus'\n",
      " 'Tomato_healthy']\n"
     ]
    }
   ],
   "source": [
    "print(label_binarizer.classes_)"
   ]
  },
  {
   "cell_type": "code",
   "execution_count": 21,
   "id": "9091b8a1",
   "metadata": {
    "execution": {
     "iopub.execute_input": "2022-04-26T18:26:44.943453Z",
     "iopub.status.busy": "2022-04-26T18:26:44.943169Z",
     "iopub.status.idle": "2022-04-26T18:26:44.946683Z",
     "shell.execute_reply": "2022-04-26T18:26:44.945867Z"
    },
    "papermill": {
     "duration": 0.552151,
     "end_time": "2022-04-26T18:26:44.948494",
     "exception": false,
     "start_time": "2022-04-26T18:26:44.396343",
     "status": "completed"
    },
    "tags": []
   },
   "outputs": [],
   "source": [
    "# loaded_model = pickle.load(open('cnn_model.pkl', 'rb'))"
   ]
  },
  {
   "cell_type": "code",
   "execution_count": 22,
   "id": "e7f936b7",
   "metadata": {
    "execution": {
     "iopub.execute_input": "2022-04-26T18:26:46.173487Z",
     "iopub.status.busy": "2022-04-26T18:26:46.172923Z",
     "iopub.status.idle": "2022-04-26T18:26:46.175922Z",
     "shell.execute_reply": "2022-04-26T18:26:46.175402Z"
    },
    "papermill": {
     "duration": 0.665687,
     "end_time": "2022-04-26T18:26:46.177494",
     "exception": false,
     "start_time": "2022-04-26T18:26:45.511807",
     "status": "completed"
    },
    "tags": []
   },
   "outputs": [],
   "source": [
    "# model_disease=loaded_model"
   ]
  },
  {
   "cell_type": "code",
   "execution_count": 23,
   "id": "4b779498",
   "metadata": {
    "execution": {
     "iopub.execute_input": "2022-04-26T18:26:47.275467Z",
     "iopub.status.busy": "2022-04-26T18:26:47.274920Z",
     "iopub.status.idle": "2022-04-26T18:26:47.305450Z",
     "shell.execute_reply": "2022-04-26T18:26:47.304718Z"
    },
    "papermill": {
     "duration": 0.58432,
     "end_time": "2022-04-26T18:26:47.307666",
     "exception": false,
     "start_time": "2022-04-26T18:26:46.723346",
     "status": "completed"
    },
    "tags": []
   },
   "outputs": [],
   "source": [
    "image_dir=\"../input/plantdisease/PlantVillage/Potato___Early_blight/001187a0-57ab-4329-baff-e7246a9edeb0___RS_Early.B 8178.JPG\"\n",
    "\n",
    "im=convert_image_to_array(image_dir)\n",
    "np_image_li = np.array(im, dtype=np.float16) / 225.0\n",
    "npp_image = np.expand_dims(np_image_li, axis=0)"
   ]
  },
  {
   "cell_type": "code",
   "execution_count": 24,
   "id": "d5d80f2d",
   "metadata": {
    "execution": {
     "iopub.execute_input": "2022-04-26T18:26:48.403911Z",
     "iopub.status.busy": "2022-04-26T18:26:48.403366Z",
     "iopub.status.idle": "2022-04-26T18:26:48.708708Z",
     "shell.execute_reply": "2022-04-26T18:26:48.707353Z"
    },
    "papermill": {
     "duration": 0.857563,
     "end_time": "2022-04-26T18:26:48.710850",
     "exception": false,
     "start_time": "2022-04-26T18:26:47.853287",
     "status": "completed"
    },
    "tags": []
   },
   "outputs": [
    {
     "name": "stdout",
     "output_type": "stream",
     "text": [
      "[[6.1598361e-01 1.0340179e-06 2.2452665e-04 1.9898372e-16 5.0935601e-20\n",
      "  8.8365929e-16 5.3200731e-03 1.7100641e-13 3.6950237e-17 5.7418681e-10\n",
      "  2.6591796e-27 1.7021006e-25 2.0986647e-18 7.8445327e-26 3.7847078e-01]]\n"
     ]
    }
   ],
   "source": [
    "result=model_disease.predict(npp_image)\n",
    "print(result)"
   ]
  },
  {
   "cell_type": "code",
   "execution_count": 25,
   "id": "dd08a998",
   "metadata": {
    "execution": {
     "iopub.execute_input": "2022-04-26T18:26:50.154820Z",
     "iopub.status.busy": "2022-04-26T18:26:50.154261Z",
     "iopub.status.idle": "2022-04-26T18:26:50.159679Z",
     "shell.execute_reply": "2022-04-26T18:26:50.158775Z"
    },
    "papermill": {
     "duration": 0.565274,
     "end_time": "2022-04-26T18:26:50.161879",
     "exception": false,
     "start_time": "2022-04-26T18:26:49.596605",
     "status": "completed"
    },
    "tags": []
   },
   "outputs": [
    {
     "name": "stdout",
     "output_type": "stream",
     "text": [
      "probability:0.6159836\n",
      "Pepper__bell___Bacterial_spot\n"
     ]
    }
   ],
   "source": [
    "itemindex = np.where(result==np.max(result))\n",
    "print(\"probability:\"+str(np.max(result))+\"\\n\"+label_binarizer.classes_[itemindex[1][0]])"
   ]
  }
 ],
 "metadata": {
  "kernelspec": {
   "display_name": "Python 3",
   "language": "python",
   "name": "python3"
  },
  "language_info": {
   "codemirror_mode": {
    "name": "ipython",
    "version": 3
   },
   "file_extension": ".py",
   "mimetype": "text/x-python",
   "name": "python",
   "nbconvert_exporter": "python",
   "pygments_lexer": "ipython3",
   "version": "3.7.12"
  },
  "papermill": {
   "default_parameters": {},
   "duration": 5101.294971,
   "end_time": "2022-04-26T18:26:54.267406",
   "environment_variables": {},
   "exception": null,
   "input_path": "__notebook__.ipynb",
   "output_path": "__notebook__.ipynb",
   "parameters": {},
   "start_time": "2022-04-26T17:01:52.972435",
   "version": "2.3.4"
  }
 },
 "nbformat": 4,
 "nbformat_minor": 5
}
